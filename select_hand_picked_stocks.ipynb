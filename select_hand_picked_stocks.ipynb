{
 "cells": [
  {
   "cell_type": "code",
   "execution_count": 4,
   "metadata": {},
   "outputs": [
    {
     "name": "stderr",
     "output_type": "stream",
     "text": [
      "[*********************100%***********************]  6 of 6 completed\n",
      "C:\\Users\\Alexander\\AppData\\Local\\Temp\\ipykernel_6740\\1302828425.py:15: FutureWarning: The default fill_method='pad' in DataFrame.pct_change is deprecated and will be removed in a future version. Either fill in any non-leading NA values prior to calling pct_change or specify 'fill_method=None' to not fill NA values.\n",
      "  returns = data.pct_change().dropna()\n"
     ]
    },
    {
     "data": {
      "text/plain": [
       "(array([0.07848169, 0.43567611, 0.13350179, 0.12647187, 0.07699314,\n",
       "        0.14887541]),\n",
       " 2.30405257420251,\n",
       " 0.5834691276556188,\n",
       " 3.948885150890849)"
      ]
     },
     "execution_count": 4,
     "metadata": {},
     "output_type": "execute_result"
    }
   ],
   "source": [
    "import yfinance as yf\n",
    "import numpy as np\n",
    "import pandas as pd\n",
    "from scipy.optimize import minimize\n",
    "\n",
    "# Define the stocks and weights\n",
    "stocks = ['ASTS', 'LUMN', 'SMMT', 'VKTX', '196170.KQ', '0020.HK']\n",
    "\n",
    "# Download the adjusted close price data for the last year\n",
    "end_date = \"2024-10-09\"\n",
    "start_date = \"2023-10-09\"\n",
    "data = yf.download(stocks, start=start_date, end=end_date)['Adj Close']\n",
    "\n",
    "# Calculate daily returns\n",
    "returns = data.pct_change().dropna()\n",
    "\n",
    "# Define a function to calculate portfolio performance\n",
    "def portfolio_performance(weights, returns):\n",
    "    portfolio_return = np.sum(returns.mean() * weights) * 252\n",
    "    portfolio_volatility = np.sqrt(np.dot(weights.T, np.dot(returns.cov() * 252, weights)))\n",
    "    sharpe_ratio = portfolio_return / portfolio_volatility\n",
    "    return portfolio_return, portfolio_volatility, sharpe_ratio\n",
    "\n",
    "# Define the objective function (negative Sharpe ratio for minimization)\n",
    "def negative_sharpe_ratio(weights, returns):\n",
    "    return -portfolio_performance(weights, returns)[2]\n",
    "\n",
    "# Constraints: sum of weights is 1\n",
    "constraints = ({'type': 'eq', 'fun': lambda weights: np.sum(weights) - 1})\n",
    "\n",
    "# Bounds: each weight is between 0 and 1\n",
    "bounds = [(0, 1)] * len(stocks)\n",
    "\n",
    "# Initial guess (equal distribution)\n",
    "initial_weights = [1 / len(stocks)] * len(stocks)\n",
    "\n",
    "# Optimize the portfolio for maximum Sharpe ratio\n",
    "optimized_result = minimize(negative_sharpe_ratio, initial_weights, args=(returns,), method='SLSQP', bounds=bounds, constraints=constraints)\n",
    "\n",
    "# Get the optimized weights and performance metrics\n",
    "optimized_weights = optimized_result.x\n",
    "optimized_return, optimized_volatility, optimized_sharpe_ratio = portfolio_performance(optimized_weights, returns)\n",
    "\n",
    "# Display results\n",
    "optimized_weights, optimized_return, optimized_volatility, optimized_sharpe_ratio\n"
   ]
  }
 ],
 "metadata": {
  "kernelspec": {
   "display_name": "Python 3",
   "language": "python",
   "name": "python3"
  },
  "language_info": {
   "codemirror_mode": {
    "name": "ipython",
    "version": 3
   },
   "file_extension": ".py",
   "mimetype": "text/x-python",
   "name": "python",
   "nbconvert_exporter": "python",
   "pygments_lexer": "ipython3",
   "version": "3.9.13"
  }
 },
 "nbformat": 4,
 "nbformat_minor": 2
}
